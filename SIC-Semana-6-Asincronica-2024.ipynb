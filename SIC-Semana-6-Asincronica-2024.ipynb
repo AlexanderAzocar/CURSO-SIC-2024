{
  "cells": [
    {
      "cell_type": "markdown",
      "id": "49909eb6",
      "metadata": {
        "id": "49909eb6"
      },
      "source": [
        "# Actividades Capítulo 6.\n",
        "\n",
        "\n",
        "# Algoritmos de clasificación.\n",
        "\n",
        "## Resumen de actividades\n",
        "\n",
        "- **Unidad 30.** Enfoque Greedy algoritmos voraces o ávidos.\n",
        "- **Unidad 31.** Divide y vencerás\n",
        "- **Unidad 32.** Programación dinámica\n",
        "- **Unidad 33.** Retroceso\n"
      ]
    },
    {
      "cell_type": "markdown",
      "id": "780f0fff",
      "metadata": {
        "id": "780f0fff"
      },
      "source": [
        "# Actividad: Algoritmos Greedy.\n",
        "\n",
        "\n",
        "## Instrucciones\n",
        "\n",
        "1. Explique brevemente y en forma clara qué es un algoritmo Greedy y como funciona..\n",
        "\n",
        "2. Enumera algunas ventajas.\n",
        "\n",
        "3. Enumera algunas desventajas.\n",
        "\n",
        "4. Escriba el código desarrollado con el enfoque Greeddy para el problema de cambio de monedas, haga diferentes pruebas cambian las entradas (recuerde que las entrada de este algoritmo son las monedas disponibles y la cantida que se desea cubrir, con estas entradas el algoritmo debe retornar la combinación de monedas que cubre el monto solicitado, minimizando la cantidad de monedas usadas)\n",
        "\n",
        "5. Ahora pruebe los resultados con siguientes entradas: monedas_disponibles = [11, 5, 1] para cubrer la cantidad de 15, observe los resultados, haga algunas analísis de lo que pasaria con esta combinación de entradas.\n"
      ]
    },
    {
      "cell_type": "markdown",
      "source": [
        "# Respuestas\n",
        "## El algortimo Greedy o enfoque mas conocido es una tecnica de diseño de algoritmos que llega a una solucion seleccionando la mejor eleccion del momento de una secuencia, es una tecnica de diseño muy eficiente y sencilla para resolver problemas de optimizacion\n",
        "## Ventajas de usar el enfoque Greedy: 1 es mas eficiente, 2 es mas sencillo, 3 es mas rapido, 4 hay menor uso de recursos entre otros\n",
        "## Desventajas una de las desventajas 1 es que no garantizan solucione optimas por que no siempre producen la mejor solucion posible. 2 Otra es que depende de la estructura del problema, este algoritmo es efectivo solo cuado los problemas tienen una estructura optima. 3 Dificultad para demostrar la optimalidad, En muchos casos, es complicado demostrar que un algoritmo Greedy produce una solución óptima\n"
      ],
      "metadata": {
        "id": "e0jfIviXrNlK"
      },
      "id": "e0jfIviXrNlK"
    },
    {
      "cell_type": "code",
      "execution_count": 6,
      "id": "21a779a5",
      "metadata": {
        "colab": {
          "base_uri": "https://localhost:8080/"
        },
        "id": "21a779a5",
        "outputId": "26006bb8-fd8e-40fc-f652-aa9a88d55cc3"
      },
      "outputs": [
        {
          "output_type": "stream",
          "name": "stdout",
          "text": [
            "Input the amount: 870\n",
            "[500, 100, 100, 100, 50, 10, 10] 7\n"
          ]
        }
      ],
      "source": [
        "# Espacio disponible para desarrollar el código y agregar los comentarios necesarios.\n",
        "def coin_change(coins, amount): #definir la funcion cambio de moneda\n",
        "    changes = [] #lista con los vacia con el cambio\n",
        "    largest = 0 #aca es la posicion del indice de la moneda mas grande\n",
        "    while amount > 0: # un bucle mientras monto agregado por el usurio sea mayor a 0 se ejecute el codigo\n",
        "        if amount < coins[largest]: #condicional si el monto es menor a moneda mas grande se ejecute el siguiente codigo\n",
        "            largest += 1 #aumentar la mas grande a +1\n",
        "        else: #condicional de lo contrario se ejecuta el siguiente codigo\n",
        "            changes.append(coins[largest]) #usa el metodo append a la lista changes para agregar la moneda mas grande\n",
        "            amount -= coins[largest] # y el monto menos la moneda mas grande es igual al monto actual\n",
        "    return changes #aca retorna la lista changes\n",
        "\n",
        "coins = [500, 100, 50, 10]\n",
        "amount = int(input(\"Input the amount: \"))\n",
        "changes = coin_change(coins, amount)\n",
        "print(changes, len(changes))"
      ]
    },
    {
      "cell_type": "code",
      "source": [
        "coins = [11, 5, 1]\n",
        "amount = int(input(\"Input the amount: \"))\n",
        "changes = coin_change(coins, amount)\n",
        "print(changes, len(changes))\n",
        "#Primero agarra la moneda mas grande que sea menor a el monto ingresado la agrega a la lista changes despues busca la otra moneda menor al monto y la suma asi hasta llegar a  0 sale del bucle while y retorna la lista con el cambio del monto ingresado"
      ],
      "metadata": {
        "colab": {
          "base_uri": "https://localhost:8080/"
        },
        "id": "8wVhNcYtvQkq",
        "outputId": "a6ceb6ba-a5f6-474d-ca9c-7ec41f44cd71"
      },
      "id": "8wVhNcYtvQkq",
      "execution_count": 7,
      "outputs": [
        {
          "output_type": "stream",
          "name": "stdout",
          "text": [
            "Input the amount: 15\n",
            "[11, 1, 1, 1, 1] 5\n"
          ]
        }
      ]
    },
    {
      "cell_type": "markdown",
      "id": "89395b47",
      "metadata": {
        "id": "89395b47"
      },
      "source": [
        "# Actividad: Replique el código de la búsqueda de la trayectoria triangular mínima.\n",
        "\n",
        "\n",
        "## Instrucciones\n",
        "\n",
        "\n",
        "1. Replique el código mostrado en la unidad 31.\n",
        "\n",
        "2. Analice el código replicado y agregue una explicíon sonbre su funcionamiento.\n",
        "\n",
        "3. Haga diferentes pruebas cambiando la entrada.\n"
      ]
    },
    {
      "cell_type": "code",
      "execution_count": 22,
      "id": "d446e273",
      "metadata": {
        "colab": {
          "base_uri": "https://localhost:8080/"
        },
        "id": "d446e273",
        "outputId": "f2caf799-34b9-48c0-eaf9-4ce271a20d39"
      },
      "outputs": [
        {
          "output_type": "stream",
          "name": "stdout",
          "text": [
            "the minimum cost is 11\n"
          ]
        }
      ],
      "source": [
        "# Espacio para desarrollar el código y agregar los comentarios necesarios.\n",
        "def find_minumun(row, col, triangule):\n",
        "    if row == len(triangule):\n",
        "        return 0\n",
        "    else:\n",
        "        minimun = min (find_minumun(row + 1, col, triangule),\n",
        "                       find_minumun(row + 1, col + 1, triangule))\n",
        "        return triangule[row][col] + minimun\n",
        "triangle = [\n",
        "    [2],\n",
        "    [3, 4],\n",
        "    [6, 5, 7],\n",
        "    [4, 1, 8, 3]\n",
        "]\n",
        "minimun = find_minumun(0, 0, triangle)\n",
        "print(\"the minimum cost is\", minimun)"
      ]
    },
    {
      "cell_type": "markdown",
      "source": [
        "#Este algoritmo encuentra la suma de los caminos mas cortos en un triangulo y genera la suma de los caminos mas cortos, usando la tecnica de recursion en este triangulo o de cualquier lista de numeros dada asi como el ejemplo"
      ],
      "metadata": {
        "id": "oWvKUjNWyVpD"
      },
      "id": "oWvKUjNWyVpD"
    },
    {
      "cell_type": "code",
      "source": [
        "triangle = [\n",
        "    [4],\n",
        "    [2, 5],\n",
        "    [1, 3, 6],\n",
        "    [3, 9, 6, 4]\n",
        "]\n",
        "minimun = find_minumun(0, 0, triangle)\n",
        "print(\"the minimum cost is\", minimun)"
      ],
      "metadata": {
        "colab": {
          "base_uri": "https://localhost:8080/"
        },
        "id": "3M4e3KveypS7",
        "outputId": "653a8fdc-c257-41cc-91e2-9085111304b9"
      },
      "id": "3M4e3KveypS7",
      "execution_count": 18,
      "outputs": [
        {
          "output_type": "stream",
          "name": "stdout",
          "text": [
            "the minimum cost is 10\n"
          ]
        }
      ]
    },
    {
      "cell_type": "markdown",
      "id": "881569fc",
      "metadata": {
        "id": "881569fc"
      },
      "source": [
        "# Actividad: Búsqueda binaria con iteración.\n",
        "\n",
        "\n",
        "## Instrucciones\n",
        "\n",
        "\n",
        "1. Replique el código mostrado en la unidad 31.\n",
        "\n",
        "2. Analice el código replicado y agregue una explicíon sonbre su funcionamiento.\n",
        "\n",
        "3. Explique por qué es necesario usar usar una función recursiva.\n",
        "\n",
        "4. Haga diferentes pruebas cambiando la entrada.\n"
      ]
    },
    {
      "cell_type": "code",
      "execution_count": 28,
      "id": "0b1f525d",
      "metadata": {
        "colab": {
          "base_uri": "https://localhost:8080/"
        },
        "id": "0b1f525d",
        "outputId": "f68c3ebe-79c2-4410-ee1e-3595ea54875c"
      },
      "outputs": [
        {
          "output_type": "stream",
          "name": "stdout",
          "text": [
            "[1, 2, 3, 4, 5, 6, 7, 8, 9, 10]\n",
            "Input the number to search, that in list nums: 8\n",
            "The number 8 is in position 7\n"
          ]
        }
      ],
      "source": [
        "# Espacio para desarrollar el código y agregar los comentarios necesarios.\n",
        "def bin_search(nums, x): #definicion de la funcion de bin_search, pasandole 2 parametros\n",
        "    low, high = 0, len(nums) - 1 #low es igual a 0 y high es la longitud de elemtos que hay en nums menos 1\n",
        "    while low <= high: #mientras low sea menor o igual a high se ejecuta el bucle while\n",
        "        mid = (low + high) // 2 #mid es igual a la suma de low y high de la division entera de 2\n",
        "        if nums[mid] == x: #si nums en la posicion de indice de mid es igual a x se ejecuta el siguiente codigo\n",
        "            return mid #retorna mid\n",
        "        elif nums[mid] < x: # si nums en la posicion mid es menos a x se ejecuta el siguiente codigo\n",
        "            low = mid + 1 #low es igual a mid + 1\n",
        "        else: # de lo contrario se ejecuta el siguiente codigo\n",
        "            high = mid - 1 # high es igual a mid - 1\n",
        "    return -1 #retorna -1\n",
        "\n",
        "nums = [1, 2, 3, 4, 5, 6, 7, 8, 9, 10]\n",
        "print(nums)\n",
        "x = int(input(\"Input the number to search, that this in list nums: \"))\n",
        "result = bin_search(nums, x)\n",
        "print(\"The number\", x, \"is in position\", result)"
      ]
    },
    {
      "cell_type": "code",
      "source": [
        "#Usando la estrategia divide y venceras se puede usar recursividad en la busqueda binaria por ejemplo:\n",
        "def bin_search2(nums, x, low, high): #definicion de la funcion de bin_search2, pasandole 4 parametros\n",
        "    if low > high: #si low es mayor a high se ejecuta el siguiente codigo\n",
        "      return -1 #retorna -1\n",
        "    else: #de lo contrario se\n",
        "      mid = (low + high) // 2 #mid es igual a la suma de low y high de la division entera de 2\n",
        "      if nums[mid] == x: #si nums en la posicion de indice de mid es igual a x se\n",
        "        return mid #retorna mid\n",
        "      elif nums[mid] > x: #si nums en la posicion mid es mayor a x se\n",
        "          return bin_search2(nums, x, low, mid - 1) #retorna recursividad de la funcion bin_Search2 menos 1\n",
        "      else:# de lo contrario se\n",
        "          return bin_search2(nums, x, mid + 1, high) # retorna recursividad de la funcion bin_Search2 mas 1\n",
        "\n",
        "nums = [1, 2, 3, 4, 5, 6, 7, 8, 9, 10]\n",
        "print(nums)\n",
        "low = 0\n",
        "high = len(nums) -1\n",
        "x = int(input(\"Input the number to search, that this in list nums: \"))\n",
        "result = bin_search2(nums, x, low, high)\n",
        "print(\"The number\", x, \"is in position\", result)"
      ],
      "metadata": {
        "colab": {
          "base_uri": "https://localhost:8080/"
        },
        "id": "I-vEu4ZO2U6E",
        "outputId": "3f6035c3-080d-4c32-aac6-a9cc5d9c1227"
      },
      "id": "I-vEu4ZO2U6E",
      "execution_count": 34,
      "outputs": [
        {
          "output_type": "stream",
          "name": "stdout",
          "text": [
            "[1, 2, 3, 4, 5, 6, 7, 8, 9, 10]\n",
            "Input the number to search, that this in list nums: 5\n",
            "The number 5 is in position 4\n"
          ]
        }
      ]
    },
    {
      "cell_type": "code",
      "source": [
        "nums = [22, 38, 46, 59, 67, 82, 92, 99, 101]\n",
        "print(nums)\n",
        "low = 0\n",
        "high = len(nums) -1\n",
        "x = int(input(\"Input the number to search, that this in list nums: \"))\n",
        "result = bin_search2(nums, x, low, high)\n",
        "print(\"The number\", x, \"is in position\", result)"
      ],
      "metadata": {
        "colab": {
          "base_uri": "https://localhost:8080/"
        },
        "id": "z0CKaJ3b-h3F",
        "outputId": "598e9b92-1cf5-4fa9-da0d-2949b22cbad3"
      },
      "id": "z0CKaJ3b-h3F",
      "execution_count": 35,
      "outputs": [
        {
          "output_type": "stream",
          "name": "stdout",
          "text": [
            "[22, 38, 46, 59, 67, 82, 92, 99, 101]\n",
            "Input the number to search, that this in list nums: 92\n",
            "The number 92 is in position 6\n"
          ]
        }
      ]
    },
    {
      "cell_type": "code",
      "source": [
        "nums = [10, 15, 30, 46, 57, 69, 72, 83, 94, 115, 120]\n",
        "print(nums)\n",
        "low = 0\n",
        "high = len(nums) -1\n",
        "x = int(input(\"Input the number to search, that this in list nums: \"))\n",
        "result = bin_search2(nums, x, low, high)\n",
        "print(\"The number\", x, \"is in position\", result)"
      ],
      "metadata": {
        "colab": {
          "base_uri": "https://localhost:8080/"
        },
        "id": "PY0OrtST_Wum",
        "outputId": "8e71cdad-fa96-4d93-d01d-69aaddaccf78"
      },
      "id": "PY0OrtST_Wum",
      "execution_count": 36,
      "outputs": [
        {
          "output_type": "stream",
          "name": "stdout",
          "text": [
            "[10, 15, 30, 46, 57, 69, 72, 83, 94, 115, 120]\n",
            "Input the number to search, that this in list nums: 115\n",
            "The number 115 is in position 9\n"
          ]
        }
      ]
    },
    {
      "cell_type": "markdown",
      "source": [
        "# Respuesta es necesario usar una función recursiva en la búsqueda binaria ya que permite dividir el problema en partes más pequeñas, mejora la claridad del código y facilita el manejo de la lógica de búsqueda. La recursión es una técnica poderosa que, cuando se aplica correctamente, puede hacer que el código sea más eficiente y fácil de entender"
      ],
      "metadata": {
        "id": "sNTleYJp3RgE"
      },
      "id": "sNTleYJp3RgE"
    },
    {
      "cell_type": "markdown",
      "id": "1087c522",
      "metadata": {
        "id": "1087c522"
      },
      "source": [
        " Actividad: Comparación entre programación dinámica y la metodología divide y venceras.\n",
        "\n",
        "\n",
        "## Instrucciones\n",
        "\n",
        "\n",
        "1. Enumera las diferencias entre los dos efoques.\n",
        "\n",
        "2. Nombre algunos casos donde funcionam mejor la programación dinámica.\n",
        "\n",
        "3. Nombre ejemplos donde es suficiente usar el enfoque divide y venceras.\n",
        "\n",
        "\n",
        "\n",
        "**Espación para desarrollar la actividad:**\n",
        "\n",
        "\n",
        "\n",
        "\n",
        "\n",
        "\n",
        "\n",
        "\n",
        "\n",
        "\n"
      ]
    },
    {
      "cell_type": "markdown",
      "source": [
        "#Programación Dinámica :1 Se utiliza cuando los subproblemas se repiten, almacena los resultados de estos subproblemas en una tabla (memorización) para evitar cálculos redundantes.\n",
        "##En cambio en la metodologia divide y venceras:En este enfoque, los subproblemas son generalmente independientes y no se repiten. Cada subproblema se resuelve una sola vez, y sus soluciones se combinan para formar la solución del problema original.\n",
        "# 2.  Estrategia de resolución en programacion dinamica, Se enfoca en construir la solución de abajo hacia arriba, resolviendo primero los subproblemas más pequeños y utilizando sus soluciones para resolver problemas más grandes.\n",
        "##En cambio en la metodologia divide y venceras:Se basa en un enfoque de arriba hacia abajo, donde el problema se divide en subproblemas más pequeños, se resuelven recursivamente y luego se combinan las soluciones. Este proceso se repite hasta que se alcanza la solución del problema original.\n",
        "# 3. La programacion dinamica la complejidad temporal puede ser significativamente mejorada al evitar cálculos redundantes, lo que a menudo resulta en una solución más eficiente en comparación con enfoques que no utilizan memorización.\n",
        "##En cambio en la metodologia divide y venceras:La complejidad puede variar dependiendo de cómo se dividan y combinen los subproblemas, pero no necesariamente se optimiza para evitar cálculos redundantes.\n",
        "\n",
        "#2. En estos casos se usa mas la programacion dinamica:\n",
        "1.   Problemas de optimización\n",
        "2.   Problemas con subestructuras óptimas\n",
        "3.   Problemas combinatorios\n",
        "4.   Problemas de secuencias\n",
        "\n",
        "#3. En casos donde es suficiente usar el divide y venceras:\n",
        "1. En algoritmos de Ordenamiento como (Merge Sort,Quick Sort)\n",
        "2. En algoritmos de Búsqueda como (Busqueda binaria)\n",
        "3. Problemas de optimización como (Problema de la suma de subconjuntos)\n",
        "4. Multiplicación de números grandes como el algortimo de ( Karatsuba)\n",
        "\n",
        "\n",
        "\n"
      ],
      "metadata": {
        "id": "2kIu-2IT_9se"
      },
      "id": "2kIu-2IT_9se"
    }
  ],
  "metadata": {
    "kernelspec": {
      "display_name": "Python 3 (ipykernel)",
      "language": "python",
      "name": "python3"
    },
    "language_info": {
      "codemirror_mode": {
        "name": "ipython",
        "version": 3
      },
      "file_extension": ".py",
      "mimetype": "text/x-python",
      "name": "python",
      "nbconvert_exporter": "python",
      "pygments_lexer": "ipython3",
      "version": "3.10.12"
    },
    "colab": {
      "provenance": []
    }
  },
  "nbformat": 4,
  "nbformat_minor": 5
}