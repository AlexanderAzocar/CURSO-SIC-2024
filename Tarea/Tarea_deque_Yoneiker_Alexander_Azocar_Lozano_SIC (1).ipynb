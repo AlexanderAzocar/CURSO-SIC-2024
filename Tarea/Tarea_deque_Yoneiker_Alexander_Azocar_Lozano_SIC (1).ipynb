{
  "nbformat": 4,
  "nbformat_minor": 0,
  "metadata": {
    "colab": {
      "provenance": []
    },
    "kernelspec": {
      "name": "python3",
      "display_name": "Python 3"
    },
    "language_info": {
      "name": "python"
    }
  },
  "cells": [
    {
      "cell_type": "code",
      "source": [
        "class Deque:\n",
        "    def __init__(self):\n",
        "        self.__deque = []\n",
        "    def str(self):\n",
        "        return str(self.__deque)\n",
        "    def add_first(self, item): #agrega un elemento a la parte inicial del deque\n",
        "        self.__deque.insert(0, item)\n",
        "    def remove_first(self): #remueve y retorna un elemento a la parte inicial del deque\n",
        "        return self.__deque.pop(0)\n",
        "    def add_last(self, item): #agrega un elemento a la parte final del deque\n",
        "        self.__deque.append(item)\n",
        "    def remove_last(self): #remueve y retorna un elemento a la parte final del deque\n",
        "        return self.__deque.pop()\n",
        "    def get_deque(self): #obtienes el deque\n",
        "        return self.__deque"
      ],
      "metadata": {
        "id": "yEdufMsWblHd"
      },
      "execution_count": 17,
      "outputs": []
    },
    {
      "cell_type": "code",
      "source": [
        "deque = Deque()\n",
        "deque.add_first(1)\n",
        "deque.add_first(2)\n",
        "deque.add_last(3)\n",
        "deque.add_last(4)\n",
        "print(deque.get_deque())\n",
        "deque.remove_first()\n",
        "deque.remove_last()\n",
        "print(deque.get_deque())"
      ],
      "metadata": {
        "colab": {
          "base_uri": "https://localhost:8080/"
        },
        "id": "MJ5t3tXidUcF",
        "outputId": "26dbafcf-4b0d-42f8-f9a0-d2eedd05d5c6"
      },
      "execution_count": 19,
      "outputs": [
        {
          "output_type": "stream",
          "name": "stdout",
          "text": [
            "[2, 1, 3, 4]\n",
            "[1, 3]\n"
          ]
        }
      ]
    }
  ]
}