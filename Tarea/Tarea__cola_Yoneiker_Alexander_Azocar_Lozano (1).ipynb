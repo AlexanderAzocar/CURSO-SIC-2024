{
  "nbformat": 4,
  "nbformat_minor": 0,
  "metadata": {
    "colab": {
      "provenance": []
    },
    "kernelspec": {
      "name": "python3",
      "display_name": "Python 3"
    },
    "language_info": {
      "name": "python"
    }
  },
  "cells": [
    {
      "cell_type": "code",
      "execution_count": 13,
      "metadata": {
        "id": "ZFeLZfXRVjAN"
      },
      "outputs": [],
      "source": [
        "class Cola:\n",
        "    def __init__(self):\n",
        "        self.__cola = []\n",
        "    def __str__(self):\n",
        "        return f'Valores internos de la cola: {self.__cola}'\n",
        "    def esta_vacia(self):\n",
        "        return len(self.__cola) == 0\n",
        "    def encolar(self, elemento):\n",
        "        self.__cola.append(elemento)\n",
        "    def desencolar(self):\n",
        "        return None if self.esta_vacia() else self.__cola.pop(0)\n",
        "    def size(self):\n",
        "        return len(self.__cola)"
      ]
    },
    {
      "cell_type": "code",
      "source": [
        "def secuencia_josephus(n, k):\n",
        "    secuencia = Cola()\n",
        "    cola = Cola()\n",
        "    for i in range(1, n + 1):\n",
        "        cola.encolar(i)\n",
        "    j = 1\n",
        "    while cola.size() > 1:\n",
        "        item = cola.desencolar()\n",
        "        if j % k == 0:\n",
        "            secuencia.encolar(item)\n",
        "        else:\n",
        "            cola.encolar(item)\n",
        "        j += 1\n",
        "    secuencia.encolar(cola.desencolar())\n",
        "    return secuencia\n",
        "\n",
        "n = int(input('Ingrese el numero de personas: '))\n",
        "k = int(input('Ingrese el numero de posiciones que desean saltar: '))\n",
        "print(secuencia_josephus(n, k))"
      ],
      "metadata": {
        "colab": {
          "base_uri": "https://localhost:8080/"
        },
        "id": "HGoQ9uQPYY7p",
        "outputId": "83fca53c-53cc-4196-a5a8-0f9aa2b191a3"
      },
      "execution_count": 15,
      "outputs": [
        {
          "output_type": "stream",
          "name": "stdout",
          "text": [
            "Ingrese el numero de personas: 7\n",
            "Ingrese el numero de posiciones que desean saltar: 3\n",
            "Valores internos de la cola: [3, 6, 2, 7, 5, 1, 4]\n"
          ]
        }
      ]
    }
  ]
}