{
  "nbformat": 4,
  "nbformat_minor": 0,
  "metadata": {
    "colab": {
      "provenance": []
    },
    "kernelspec": {
      "name": "python3",
      "display_name": "Python 3"
    },
    "language_info": {
      "name": "python"
    }
  },
  "cells": [
    {
      "cell_type": "code",
      "source": [
        "def cambio_moneda2(monto, monedas):\n",
        "    cambio = {}\n",
        "    for valor, cantidad in monedas.items():\n",
        "        while monto >= valor and cantidad > 0:\n",
        "            if valor in cambio:\n",
        "                cambio[valor] += 1\n",
        "            else:\n",
        "                cambio[valor] = 1\n",
        "            monto -= valor\n",
        "            cantidad -= 1\n",
        "    return cambio"
      ],
      "metadata": {
        "id": "WKm6ObtsGqZA"
      },
      "execution_count": null,
      "outputs": []
    },
    {
      "cell_type": "code",
      "source": [
        "monedas = {\n",
        "    500: 1,\n",
        "    100: 1,\n",
        "    50: 3,\n",
        "    10: 2\n",
        "}\n",
        "cant = int(input(\"Introduzca monto: \"))\n",
        "resultado = cambio_moneda2(cant, monedas)\n",
        "print(\"El cambio para 710w: \")\n",
        "for valor, cantidad in resultado.items():\n",
        "    print(f\"{cantidad} de {valor}w\")"
      ],
      "metadata": {
        "colab": {
          "base_uri": "https://localhost:8080/"
        },
        "id": "rejRu327CoJB",
        "outputId": "a51fdb85-589d-4aaa-985d-dd0eb80d6633"
      },
      "execution_count": null,
      "outputs": [
        {
          "output_type": "stream",
          "name": "stdout",
          "text": [
            "Introduzca monto: 710\n",
            "El cambio para 710w: \n",
            "1 de 500w\n",
            "1 de 100w\n",
            "2 de 50w\n",
            "1 de 10w\n"
          ]
        }
      ]
    },
    {
      "cell_type": "code",
      "source": [
        "def maximum_subarray(nums):\n",
        "    max_current = max_global = nums[0]\n",
        "    for i in range(1, len(nums)):\n",
        "        max_current = max(nums[i], max_current + nums[i])\n",
        "        if max_current > max_global:\n",
        "            max_global = max_current\n",
        "    return max_global"
      ],
      "metadata": {
        "id": "Jw6d5SbQFMsn"
      },
      "execution_count": 1,
      "outputs": []
    },
    {
      "cell_type": "code",
      "source": [
        "suma = 3\n",
        "s = [-2, 1, -2, 4, -1, 2, 1, -5, 4]\n",
        "m = maximum_subarray(s)\n",
        "print(m)"
      ],
      "metadata": {
        "id": "KxQZjOWzE-Gn",
        "colab": {
          "base_uri": "https://localhost:8080/"
        },
        "outputId": "c9d68126-9c88-4771-b419-c584a9987a2d"
      },
      "execution_count": 3,
      "outputs": [
        {
          "output_type": "stream",
          "name": "stdout",
          "text": [
            "6\n"
          ]
        }
      ]
    },
    {
      "cell_type": "markdown",
      "source": [
        "raton mueve por coordenada (0,0) hasta la n-1 o n-1\n",
        "se mueve en 0\n"
      ],
      "metadata": {
        "id": "pd-cRRDWIQtg"
      }
    }
  ]
}